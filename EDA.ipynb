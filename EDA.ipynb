{
 "cells": [
  {
   "cell_type": "code",
   "execution_count": 1,
   "id": "1828e5fe",
   "metadata": {},
   "outputs": [
    {
     "data": {
      "text/plain": [
       "(       ID                 대회명                             키워드        시작시간  \\\n",
       " 0  ID_000  대출 상점 총 매출 예측 경진대회      알고리즘 | 정형 | 회귀 | 금융 | RMSE  2018-08-14   \n",
       " 1  ID_001    아파트 경매가격 예측 경진대회     알고리즘 | 정형 | 회귀 | 아파트 | RMSE  2018-10-18   \n",
       " 2  ID_002  KBO 타자 OPS 예측 경진대회    알고리즘 | 정형 | 회귀 | 스포츠 | WRMSE  2019-02-08   \n",
       " 3  ID_003  상점 신용카드 매출 예측 경진대회  알고리즘 | 정형 | 회귀 | 매출 | 회귀 | MAE  2019-07-11   \n",
       " 4  ID_004      전력 수요량 예측 경진대회     알고리즘 | 정형 | 회귀 | 공공 | SMAPE  2019-10-01   \n",
       " \n",
       "          종료시간  참여자 수                 상금 정보  최대 팀원 수  수상자 수  일일 제출횟수   평가산식  \\\n",
       " 0  2018-09-13    577   $8,500 + 100,000ZPR      5.0      3      5.0   RMSE   \n",
       " 1  2018-12-31    612  $10,000 + 120,000ZPR     10.0      3      3.0   RMSE   \n",
       " 2  2019-07-18   1103                 800만원      5.0      3      3.0  WRMSE   \n",
       " 3  2019-10-21   1416                 200만원      5.0      3    100.0    MAE   \n",
       " 4  2019-10-27    789                 600만원      4.0      3      3.0  SMAPE   \n",
       " \n",
       "    참가조건 여부  연습가능 여부  아이디어 대회 여부  월간 데이콘 여부  \\\n",
       " 0        0        1           0          0   \n",
       " 1        0        1           0          0   \n",
       " 2        0        1           0          0   \n",
       " 3        0        1           0          0   \n",
       " 4        0        1           0          0   \n",
       " \n",
       "                                                대회 개요  \\\n",
       " 0  <h2>1.배경</h2><p><span style=\"background-color:...   \n",
       " 1  <h2>1.배경</h2><p>안녕하세요! <strong>아파트 경매 가격 예측 경진...   \n",
       " 2  <h2>1. 배경</h2><p>안녕하세요 여러분!? <strong>KBO 타자 OP...   \n",
       " 3  <h2>1. 배경</h2><p>안녕하세요 여러분!? <strong>상점 신용카드 매...   \n",
       " 4  <h2>1. 배경</h2><p>안녕하세요 여러분!? <strong>전력 수요량 예측...   \n",
       " \n",
       "                                               데이터 설명  \\\n",
       " 0  <p>[기초 설명]</p><p><span style=\"color: rgb(36, 4...   \n",
       " 1  <p><br></p><p>[데이터 설명]</p><p><br></p><p>한국의 서울...   \n",
       " 2  <p>약 350명의 타자들의 시즌별 성적, 생년월일, 몸무게, 키 등의 정보가 제공...   \n",
       " 3  <p>1. funda_train.csv : 2019-02-28일까지의 상점별 카드 ...   \n",
       " 4  <p>본 대회에서는 2016년 7월 20일부터 2018년 6월 30일까지의 국내 특...   \n",
       " \n",
       "                                                   일정  \\\n",
       " 0  <p><strong>세부일정</strong></p><p><br></p><ul><li...   \n",
       " 1  <h2>세부일정</h2><p><br></p><ul><li>제출 : 2018-10-1...   \n",
       " 2  <h2>세부 일정</h2><p><br></p><ul><li>대회 공개 : 2019....   \n",
       " 3  <h2>세부 일정</h2><p>UTC+9 기준</p><p><br></p><ul><l...   \n",
       " 4  <h2>세부 일정 </h2><p>UTC+ 9 기준</p><p><br></p><ul>...   \n",
       " \n",
       "                                              상금 상세정보  \\\n",
       " 0  <p><span style=\"background-color: transparent;...   \n",
       " 1  <p><span style=\"background-color: transparent;...   \n",
       " 2  <p>? 총 상금 800만원</p><p><br></p><p>?1위 - 500만원</...   \n",
       " 3  <p>?7월 11일부터&nbsp;8월 30일까지 열렸던 대회에 대한 상금은 아래와 ...   \n",
       " 4  <p><strong>데이터 사이언스 콘테스트 부문</strong></p><p>?1등...   \n",
       " \n",
       "                                                   규칙  \n",
       " 0  <p><br></p><p><span class=\"ql-size-large\">A. 구...  \n",
       " 1  <p><br></p><p><span class=\"ql-size-large\">제출한 ...  \n",
       " 2  <h2>모델링 규칙</h2><p>\\n각 참가자는 3월 31일까지 여러 submiss...  \n",
       " 3  <h2>단계별 방식 랭킹\\n</h2><p><br></p><p>   A. public...  \n",
       " 4  <p><br></p><p>SMAPE는 Symmetric Mean Absolute P...  ,\n",
       "        ID          일자  참가자 수\n",
       " 0  ID_000  2018-08-31      1\n",
       " 1  ID_001  2018-11-14      1\n",
       " 2  ID_001  2018-12-01      1\n",
       " 3  ID_002  2019-02-11      2\n",
       " 4  ID_002  2019-02-18      1,\n",
       "        ID          일자  제출 수\n",
       " 0  ID_000  2018-08-14     2\n",
       " 1  ID_000  2018-08-15     1\n",
       " 2  ID_000  2018-08-16     1\n",
       " 3  ID_000  2018-08-17     1\n",
       " 4  ID_000  2018-08-18     2,\n",
       "        ID          일자  토크 수  댓글 수   조회 수  공유 수  좋아요 수\n",
       " 0  ID_000  2018-08-16     1     1   2324     0      5\n",
       " 1  ID_000  2018-08-17     2     2   4729     0      9\n",
       " 2  ID_000  2018-08-21     5     5   9475     0     14\n",
       " 3  ID_000  2018-08-25     6     6  11862     0     18\n",
       " 4  ID_000  2018-08-27    11    11  22621     0     34,\n",
       "        ID          일자  코드 공유 수  댓글 수   조회 수  공유 수  다운로드 수  좋아요 수\n",
       " 0  ID_000  2019-12-09        6     0  34237    11       0     50\n",
       " 1  ID_000  2020-04-21       10     0  34568    11       0     50\n",
       " 2  ID_000  2020-07-16       11     0  42386    12      10     62\n",
       " 3  ID_000  2020-10-13       13     0  42394    12      10     62\n",
       " 4  ID_000  2021-09-10       14     1  42395    12      10     62)"
      ]
     },
     "execution_count": 1,
     "metadata": {},
     "output_type": "execute_result"
    }
   ],
   "source": [
    "import pandas as pd\n",
    "\n",
    "# 파일 경로 설정\n",
    "competition_info_path = 'C:/Users/82106/Desktop/데이터분석 프로젝트/데이콘 경진대회/data/open/competition_info.csv'\n",
    "participate_log_path = 'C:/Users/82106/Desktop/데이터분석 프로젝트/데이콘 경진대회/data/open/participate_log.csv'\n",
    "submission_log_path = 'C:/Users/82106/Desktop/데이터분석 프로젝트/데이콘 경진대회/data/open/submission_log.csv'\n",
    "talk_log_path = 'C:/Users/82106/Desktop/데이터분석 프로젝트/데이콘 경진대회/data/open/talk_log.csv'\n",
    "codeshare_log_path = 'C:/Users/82106/Desktop/데이터분석 프로젝트/데이콘 경진대회/data/open/codeshare_log.csv'\n",
    "\n",
    "# 각 파일 읽기\n",
    "competition_info = pd.read_csv(competition_info_path)\n",
    "participate_log = pd.read_csv(participate_log_path)\n",
    "submission_log = pd.read_csv(submission_log_path)\n",
    "talk_log = pd.read_csv(talk_log_path)\n",
    "codeshare_log = pd.read_csv(codeshare_log_path)\n",
    "\n",
    "# 각 데이터프레임의 첫 5행을 출력하여 구조 확인\n",
    "(competition_info.head(), participate_log.head(), submission_log.head(), talk_log.head(), codeshare_log.head())\n"
   ]
  },
  {
   "cell_type": "code",
   "execution_count": 2,
   "id": "cd7cd999",
   "metadata": {},
   "outputs": [
    {
     "data": {
      "text/html": [
       "<div>\n",
       "<style scoped>\n",
       "    .dataframe tbody tr th:only-of-type {\n",
       "        vertical-align: middle;\n",
       "    }\n",
       "\n",
       "    .dataframe tbody tr th {\n",
       "        vertical-align: top;\n",
       "    }\n",
       "\n",
       "    .dataframe thead th {\n",
       "        text-align: right;\n",
       "    }\n",
       "</style>\n",
       "<table border=\"1\" class=\"dataframe\">\n",
       "  <thead>\n",
       "    <tr style=\"text-align: right;\">\n",
       "      <th></th>\n",
       "      <th>ID</th>\n",
       "      <th>참가자 수</th>\n",
       "      <th>제출 수</th>\n",
       "      <th>토크 수</th>\n",
       "      <th>댓글 수</th>\n",
       "      <th>코드 공유 수</th>\n",
       "      <th>대회명</th>\n",
       "      <th>키워드</th>\n",
       "      <th>시작시간</th>\n",
       "      <th>종료시간</th>\n",
       "    </tr>\n",
       "  </thead>\n",
       "  <tbody>\n",
       "    <tr>\n",
       "      <th>0</th>\n",
       "      <td>ID_000</td>\n",
       "      <td>1</td>\n",
       "      <td>1109.0</td>\n",
       "      <td>356</td>\n",
       "      <td>353</td>\n",
       "      <td>54.0</td>\n",
       "      <td>대출 상점 총 매출 예측 경진대회</td>\n",
       "      <td>알고리즘 | 정형 | 회귀 | 금융 | RMSE</td>\n",
       "      <td>2018-08-14</td>\n",
       "      <td>2018-09-13</td>\n",
       "    </tr>\n",
       "    <tr>\n",
       "      <th>1</th>\n",
       "      <td>ID_001</td>\n",
       "      <td>2</td>\n",
       "      <td>1856.0</td>\n",
       "      <td>32</td>\n",
       "      <td>23</td>\n",
       "      <td>4.0</td>\n",
       "      <td>아파트 경매가격 예측 경진대회</td>\n",
       "      <td>알고리즘 | 정형 | 회귀 | 아파트 | RMSE</td>\n",
       "      <td>2018-10-18</td>\n",
       "      <td>2018-12-31</td>\n",
       "    </tr>\n",
       "    <tr>\n",
       "      <th>2</th>\n",
       "      <td>ID_002</td>\n",
       "      <td>97</td>\n",
       "      <td>210.0</td>\n",
       "      <td>760</td>\n",
       "      <td>742</td>\n",
       "      <td>5.0</td>\n",
       "      <td>KBO 타자 OPS 예측 경진대회</td>\n",
       "      <td>알고리즘 | 정형 | 회귀 | 스포츠 | WRMSE</td>\n",
       "      <td>2019-02-08</td>\n",
       "      <td>2019-07-18</td>\n",
       "    </tr>\n",
       "    <tr>\n",
       "      <th>3</th>\n",
       "      <td>ID_003</td>\n",
       "      <td>88</td>\n",
       "      <td>840.0</td>\n",
       "      <td>655</td>\n",
       "      <td>627</td>\n",
       "      <td>127.0</td>\n",
       "      <td>상점 신용카드 매출 예측 경진대회</td>\n",
       "      <td>알고리즘 | 정형 | 회귀 | 매출 | 회귀 | MAE</td>\n",
       "      <td>2019-07-11</td>\n",
       "      <td>2019-10-21</td>\n",
       "    </tr>\n",
       "    <tr>\n",
       "      <th>4</th>\n",
       "      <td>ID_004</td>\n",
       "      <td>122</td>\n",
       "      <td>1006.0</td>\n",
       "      <td>1090</td>\n",
       "      <td>1145</td>\n",
       "      <td>25.0</td>\n",
       "      <td>전력 수요량 예측 경진대회</td>\n",
       "      <td>알고리즘 | 정형 | 회귀 | 공공 | SMAPE</td>\n",
       "      <td>2019-10-01</td>\n",
       "      <td>2019-10-27</td>\n",
       "    </tr>\n",
       "  </tbody>\n",
       "</table>\n",
       "</div>"
      ],
      "text/plain": [
       "       ID  참가자 수    제출 수  토크 수  댓글 수  코드 공유 수                 대회명  \\\n",
       "0  ID_000      1  1109.0   356   353     54.0  대출 상점 총 매출 예측 경진대회   \n",
       "1  ID_001      2  1856.0    32    23      4.0    아파트 경매가격 예측 경진대회   \n",
       "2  ID_002     97   210.0   760   742      5.0  KBO 타자 OPS 예측 경진대회   \n",
       "3  ID_003     88   840.0   655   627    127.0  상점 신용카드 매출 예측 경진대회   \n",
       "4  ID_004    122  1006.0  1090  1145     25.0      전력 수요량 예측 경진대회   \n",
       "\n",
       "                              키워드        시작시간        종료시간  \n",
       "0      알고리즘 | 정형 | 회귀 | 금융 | RMSE  2018-08-14  2018-09-13  \n",
       "1     알고리즘 | 정형 | 회귀 | 아파트 | RMSE  2018-10-18  2018-12-31  \n",
       "2    알고리즘 | 정형 | 회귀 | 스포츠 | WRMSE  2019-02-08  2019-07-18  \n",
       "3  알고리즘 | 정형 | 회귀 | 매출 | 회귀 | MAE  2019-07-11  2019-10-21  \n",
       "4     알고리즘 | 정형 | 회귀 | 공공 | SMAPE  2019-10-01  2019-10-27  "
      ]
     },
     "execution_count": 2,
     "metadata": {},
     "output_type": "execute_result"
    }
   ],
   "source": [
    "# 대회별 참가자 수, 제출 수, 토크 수, 코드 공유 수 집계\n",
    "# 각 로그 파일에서 대회 ID 별로 집계합니다.\n",
    "\n",
    "# 참가자 수 집계\n",
    "participate_counts = participate_log.groupby('ID')['참가자 수'].sum()\n",
    "\n",
    "# 제출 수 집계\n",
    "submission_counts = submission_log.groupby('ID')['제출 수'].sum()\n",
    "\n",
    "# 토크 수 및 댓글 수 집계\n",
    "talk_counts = talk_log.groupby('ID').agg({'토크 수':'sum', '댓글 수':'sum'})\n",
    "\n",
    "# 코드 공유 수 집계\n",
    "codeshare_counts = codeshare_log.groupby('ID')['코드 공유 수'].sum()\n",
    "\n",
    "# 모든 데이터를 하나의 데이터프레임으로 합치기\n",
    "combined_df = pd.DataFrame({\n",
    "    '참가자 수': participate_counts,\n",
    "    '제출 수': submission_counts,\n",
    "    '토크 수': talk_counts['토크 수'],\n",
    "    '댓글 수': talk_counts['댓글 수'],\n",
    "    '코드 공유 수': codeshare_counts\n",
    "}).reset_index()\n",
    "\n",
    "# competition_info와 결합하여 대회명과 다른 정보 포함\n",
    "trend_analysis_df = pd.merge(combined_df, competition_info[['ID', '대회명', '키워드', '시작시간', '종료시간']], on='ID', how='left')\n",
    "\n",
    "trend_analysis_df.head()\n"
   ]
  },
  {
   "cell_type": "code",
   "execution_count": 3,
   "id": "9cbddd49",
   "metadata": {
    "scrolled": true
   },
   "outputs": [
    {
     "name": "stderr",
     "output_type": "stream",
     "text": [
      "C:\\Users\\82106\\anaconda3\\lib\\site-packages\\IPython\\core\\pylabtools.py:151: UserWarning: Glyph 45824 (\\N{HANGUL SYLLABLE DAE}) missing from current font.\n",
      "  fig.canvas.print_figure(bytes_io, **kw)\n",
      "C:\\Users\\82106\\anaconda3\\lib\\site-packages\\IPython\\core\\pylabtools.py:151: UserWarning: Glyph 54924 (\\N{HANGUL SYLLABLE HOE}) missing from current font.\n",
      "  fig.canvas.print_figure(bytes_io, **kw)\n",
      "C:\\Users\\82106\\anaconda3\\lib\\site-packages\\IPython\\core\\pylabtools.py:151: UserWarning: Glyph 48324 (\\N{HANGUL SYLLABLE BYEOL}) missing from current font.\n",
      "  fig.canvas.print_figure(bytes_io, **kw)\n",
      "C:\\Users\\82106\\anaconda3\\lib\\site-packages\\IPython\\core\\pylabtools.py:151: UserWarning: Glyph 52280 (\\N{HANGUL SYLLABLE CAM}) missing from current font.\n",
      "  fig.canvas.print_figure(bytes_io, **kw)\n",
      "C:\\Users\\82106\\anaconda3\\lib\\site-packages\\IPython\\core\\pylabtools.py:151: UserWarning: Glyph 44032 (\\N{HANGUL SYLLABLE GA}) missing from current font.\n",
      "  fig.canvas.print_figure(bytes_io, **kw)\n",
      "C:\\Users\\82106\\anaconda3\\lib\\site-packages\\IPython\\core\\pylabtools.py:151: UserWarning: Glyph 51088 (\\N{HANGUL SYLLABLE JA}) missing from current font.\n",
      "  fig.canvas.print_figure(bytes_io, **kw)\n",
      "C:\\Users\\82106\\anaconda3\\lib\\site-packages\\IPython\\core\\pylabtools.py:151: UserWarning: Glyph 49688 (\\N{HANGUL SYLLABLE SU}) missing from current font.\n",
      "  fig.canvas.print_figure(bytes_io, **kw)\n",
      "C:\\Users\\82106\\anaconda3\\lib\\site-packages\\IPython\\core\\pylabtools.py:151: UserWarning: Glyph 48516 (\\N{HANGUL SYLLABLE BUN}) missing from current font.\n",
      "  fig.canvas.print_figure(bytes_io, **kw)\n",
      "C:\\Users\\82106\\anaconda3\\lib\\site-packages\\IPython\\core\\pylabtools.py:151: UserWarning: Glyph 54252 (\\N{HANGUL SYLLABLE PO}) missing from current font.\n",
      "  fig.canvas.print_figure(bytes_io, **kw)\n"
     ]
    },
    {
     "data": {
      "image/png": "[encoded data removed]",
      "text/plain": [
       "<Figure size 720x432 with 1 Axes>"
      ]
     },
     "metadata": {
      "needs_background": "light"
     },
     "output_type": "display_data"
    },
    {
     "name": "stderr",
     "output_type": "stream",
     "text": [
      "C:\\Users\\82106\\anaconda3\\lib\\site-packages\\IPython\\core\\pylabtools.py:151: UserWarning: Glyph 45824 (\\N{HANGUL SYLLABLE DAE}) missing from current font.\n",
      "  fig.canvas.print_figure(bytes_io, **kw)\n",
      "C:\\Users\\82106\\anaconda3\\lib\\site-packages\\IPython\\core\\pylabtools.py:151: UserWarning: Glyph 54924 (\\N{HANGUL SYLLABLE HOE}) missing from current font.\n",
      "  fig.canvas.print_figure(bytes_io, **kw)\n",
      "C:\\Users\\82106\\anaconda3\\lib\\site-packages\\IPython\\core\\pylabtools.py:151: UserWarning: Glyph 48324 (\\N{HANGUL SYLLABLE BYEOL}) missing from current font.\n",
      "  fig.canvas.print_figure(bytes_io, **kw)\n",
      "C:\\Users\\82106\\anaconda3\\lib\\site-packages\\IPython\\core\\pylabtools.py:151: UserWarning: Glyph 51228 (\\N{HANGUL SYLLABLE JE}) missing from current font.\n",
      "  fig.canvas.print_figure(bytes_io, **kw)\n",
      "C:\\Users\\82106\\anaconda3\\lib\\site-packages\\IPython\\core\\pylabtools.py:151: UserWarning: Glyph 52636 (\\N{HANGUL SYLLABLE CUL}) missing from current font.\n",
      "  fig.canvas.print_figure(bytes_io, **kw)\n",
      "C:\\Users\\82106\\anaconda3\\lib\\site-packages\\IPython\\core\\pylabtools.py:151: UserWarning: Glyph 49688 (\\N{HANGUL SYLLABLE SU}) missing from current font.\n",
      "  fig.canvas.print_figure(bytes_io, **kw)\n",
      "C:\\Users\\82106\\anaconda3\\lib\\site-packages\\IPython\\core\\pylabtools.py:151: UserWarning: Glyph 48516 (\\N{HANGUL SYLLABLE BUN}) missing from current font.\n",
      "  fig.canvas.print_figure(bytes_io, **kw)\n",
      "C:\\Users\\82106\\anaconda3\\lib\\site-packages\\IPython\\core\\pylabtools.py:151: UserWarning: Glyph 54252 (\\N{HANGUL SYLLABLE PO}) missing from current font.\n",
      "  fig.canvas.print_figure(bytes_io, **kw)\n"
     ]
    },
    {
     "data": {
      "image/png": "[encoded data removed]",
      "text/plain": [
       "<Figure size 720x432 with 1 Axes>"
      ]
     },
     "metadata": {
      "needs_background": "light"
     },
     "output_type": "display_data"
    }
   ],
   "source": [
    "import matplotlib.pyplot as plt\n",
    "import seaborn as sns\n",
    "\n",
    "# 기초 통계 및 분포 시각화를 위한 함수 정의\n",
    "def plot_distribution(data, title, xlabel):\n",
    "    plt.figure(figsize=(10, 6))\n",
    "    sns.histplot(data, kde=True, bins=30)\n",
    "    plt.title(title)\n",
    "    plt.xlabel(xlabel)\n",
    "    plt.ylabel('Frequency')\n",
    "    plt.show()\n",
    "\n",
    "# 대회별 참가자 수에 대한 기초 통계 및 분포 시각화\n",
    "plot_distribution(trend_analysis_df['참가자 수'], '대회별 참가자 수 분포', '참가자 수')\n",
    "\n",
    "# 대회별 제출 수에 대한 기초 통계 및 분포 시각화\n",
    "plot_distribution(trend_analysis_df['제출 수'], '대회별 제출 수 분포', '제출 수')\n"
   ]
  },
  {
   "cell_type": "markdown",
   "id": "af00b923",
   "metadata": {},
   "source": [
    "참가자 수:\n",
    "\n",
    "대부분의 대회에서 참가자 수가 상대적으로 낮은 것으로 보인다. 이는 특정 대회들이 높은 인기를 끌었을 가능성을 시사한다.\n",
    "일부 대회에서는 매우 높은 참가자 수를 보이며, 이러한 대회들은 특히 주목할 필요가 있다.\n",
    "\n",
    "제출 수:\n",
    "\n",
    "제출 수의 분포도 마찬가지로 대부분의 대회에서 낮은 수준을 보이지만, 일부 대회에서는 상당히 높은 제출 횟수를 나타낸다.\n",
    "이는 해당 대회들이 높은 참여율을 유도했음을 나타낸다."
   ]
  },
  {
   "cell_type": "code",
   "execution_count": 4,
   "id": "e340c299",
   "metadata": {},
   "outputs": [
    {
     "name": "stderr",
     "output_type": "stream",
     "text": [
      "C:\\Users\\82106\\anaconda3\\lib\\site-packages\\IPython\\core\\pylabtools.py:151: UserWarning: Glyph 45824 (\\N{HANGUL SYLLABLE DAE}) missing from current font.\n",
      "  fig.canvas.print_figure(bytes_io, **kw)\n",
      "C:\\Users\\82106\\anaconda3\\lib\\site-packages\\IPython\\core\\pylabtools.py:151: UserWarning: Glyph 54924 (\\N{HANGUL SYLLABLE HOE}) missing from current font.\n",
      "  fig.canvas.print_figure(bytes_io, **kw)\n",
      "C:\\Users\\82106\\anaconda3\\lib\\site-packages\\IPython\\core\\pylabtools.py:151: UserWarning: Glyph 48324 (\\N{HANGUL SYLLABLE BYEOL}) missing from current font.\n",
      "  fig.canvas.print_figure(bytes_io, **kw)\n",
      "C:\\Users\\82106\\anaconda3\\lib\\site-packages\\IPython\\core\\pylabtools.py:151: UserWarning: Glyph 53664 (\\N{HANGUL SYLLABLE TO}) missing from current font.\n",
      "  fig.canvas.print_figure(bytes_io, **kw)\n",
      "C:\\Users\\82106\\anaconda3\\lib\\site-packages\\IPython\\core\\pylabtools.py:151: UserWarning: Glyph 53356 (\\N{HANGUL SYLLABLE KEU}) missing from current font.\n",
      "  fig.canvas.print_figure(bytes_io, **kw)\n",
      "C:\\Users\\82106\\anaconda3\\lib\\site-packages\\IPython\\core\\pylabtools.py:151: UserWarning: Glyph 49688 (\\N{HANGUL SYLLABLE SU}) missing from current font.\n",
      "  fig.canvas.print_figure(bytes_io, **kw)\n",
      "C:\\Users\\82106\\anaconda3\\lib\\site-packages\\IPython\\core\\pylabtools.py:151: UserWarning: Glyph 48516 (\\N{HANGUL SYLLABLE BUN}) missing from current font.\n",
      "  fig.canvas.print_figure(bytes_io, **kw)\n",
      "C:\\Users\\82106\\anaconda3\\lib\\site-packages\\IPython\\core\\pylabtools.py:151: UserWarning: Glyph 54252 (\\N{HANGUL SYLLABLE PO}) missing from current font.\n",
      "  fig.canvas.print_figure(bytes_io, **kw)\n"
     ]
    },
    {
     "data": {
      "image/png": "[encoded data removed]",
      "text/plain": [
       "<Figure size 720x432 with 1 Axes>"
      ]
     },
     "metadata": {
      "needs_background": "light"
     },
     "output_type": "display_data"
    },
    {
     "name": "stderr",
     "output_type": "stream",
     "text": [
      "C:\\Users\\82106\\anaconda3\\lib\\site-packages\\IPython\\core\\pylabtools.py:151: UserWarning: Glyph 45824 (\\N{HANGUL SYLLABLE DAE}) missing from current font.\n",
      "  fig.canvas.print_figure(bytes_io, **kw)\n",
      "C:\\Users\\82106\\anaconda3\\lib\\site-packages\\IPython\\core\\pylabtools.py:151: UserWarning: Glyph 54924 (\\N{HANGUL SYLLABLE HOE}) missing from current font.\n",
      "  fig.canvas.print_figure(bytes_io, **kw)\n",
      "C:\\Users\\82106\\anaconda3\\lib\\site-packages\\IPython\\core\\pylabtools.py:151: UserWarning: Glyph 48324 (\\N{HANGUL SYLLABLE BYEOL}) missing from current font.\n",
      "  fig.canvas.print_figure(bytes_io, **kw)\n",
      "C:\\Users\\82106\\anaconda3\\lib\\site-packages\\IPython\\core\\pylabtools.py:151: UserWarning: Glyph 53076 (\\N{HANGUL SYLLABLE KO}) missing from current font.\n",
      "  fig.canvas.print_figure(bytes_io, **kw)\n",
      "C:\\Users\\82106\\anaconda3\\lib\\site-packages\\IPython\\core\\pylabtools.py:151: UserWarning: Glyph 46300 (\\N{HANGUL SYLLABLE DEU}) missing from current font.\n",
      "  fig.canvas.print_figure(bytes_io, **kw)\n",
      "C:\\Users\\82106\\anaconda3\\lib\\site-packages\\IPython\\core\\pylabtools.py:151: UserWarning: Glyph 44277 (\\N{HANGUL SYLLABLE GONG}) missing from current font.\n",
      "  fig.canvas.print_figure(bytes_io, **kw)\n",
      "C:\\Users\\82106\\anaconda3\\lib\\site-packages\\IPython\\core\\pylabtools.py:151: UserWarning: Glyph 50976 (\\N{HANGUL SYLLABLE YU}) missing from current font.\n",
      "  fig.canvas.print_figure(bytes_io, **kw)\n",
      "C:\\Users\\82106\\anaconda3\\lib\\site-packages\\IPython\\core\\pylabtools.py:151: UserWarning: Glyph 49688 (\\N{HANGUL SYLLABLE SU}) missing from current font.\n",
      "  fig.canvas.print_figure(bytes_io, **kw)\n",
      "C:\\Users\\82106\\anaconda3\\lib\\site-packages\\IPython\\core\\pylabtools.py:151: UserWarning: Glyph 48516 (\\N{HANGUL SYLLABLE BUN}) missing from current font.\n",
      "  fig.canvas.print_figure(bytes_io, **kw)\n",
      "C:\\Users\\82106\\anaconda3\\lib\\site-packages\\IPython\\core\\pylabtools.py:151: UserWarning: Glyph 54252 (\\N{HANGUL SYLLABLE PO}) missing from current font.\n",
      "  fig.canvas.print_figure(bytes_io, **kw)\n"
     ]
    },
    {
     "data": {
      "image/png": "[encoded data removed]",
      "text/plain": [
       "<Figure size 720x432 with 1 Axes>"
      ]
     },
     "metadata": {
      "needs_background": "light"
     },
     "output_type": "display_data"
    }
   ],
   "source": [
    "# 대회별 토크 수에 대한 기초 통계 및 분포 시각화\n",
    "plot_distribution(trend_analysis_df['토크 수'], '대회별 토크 수 분포', '토크 수')\n",
    "\n",
    "# 대회별 코드 공유 수에 대한 기초 통계 및 분포 시각화\n",
    "plot_distribution(trend_analysis_df['코드 공유 수'], '대회별 코드 공유 수 분포', '코드 공유 수')\n"
   ]
  },
  {
   "cell_type": "markdown",
   "id": "b60b8578",
   "metadata": {},
   "source": [
    "토크 수:\n",
    "\n",
    "대부분의 대회에서 토크 수가 상대적으로 낮은 수준임을 볼 수 있다. 이는 대회 중 커뮤니티 활동이 일부 대회에 집중되어 있음을 나타낼 수 있다.\n",
    "높은 토크 수를 보이는 대회는 커뮤니티 내에서 더 많은 관심과 토론을 유발했다고 볼 수 있다.\n",
    "\n",
    "코드 공유 수:\n",
    "\n",
    "코드 공유 활동은 대부분의 대회에서 매우 제한적인 것으로 보인다. 이는 참가자들이 코드를 공유하는 것이 일반적이지 않거나, 특정 대회에서만 활발한 활동이 이루어졌음을 나타낼 수 있다.\n",
    "특정 대회에서는 코드 공유가 활발하게 이루어졌을 가능성이 있으며, 이러한 대회는 특히 주목할 필요가 있다."
   ]
  },
  {
   "cell_type": "code",
   "execution_count": 5,
   "id": "2482716c",
   "metadata": {},
   "outputs": [
    {
     "data": {
      "text/plain": [
       "[('알고리즘', 120),\n",
       " ('정형', 80),\n",
       " ('회귀', 50),\n",
       " ('분류', 49),\n",
       " ('금융', 18),\n",
       " ('정성평가', 17),\n",
       " ('RMSE', 16),\n",
       " ('분석시각화', 15),\n",
       " ('분석', 14),\n",
       " ('CV', 14)]"
      ]
     },
     "execution_count": 5,
     "metadata": {},
     "output_type": "execute_result"
    }
   ],
   "source": [
    "from collections import Counter\n",
    "import itertools\n",
    "\n",
    "# 대회 키워드 데이터 추출 및 분석\n",
    "keywords = trend_analysis_df['키워드'].dropna()\n",
    "\n",
    "# 모든 키워드를 분리하여 리스트로 변환\n",
    "keyword_list = list(itertools.chain(*[k.split(' | ') for k in keywords]))\n",
    "\n",
    "# 키워드 빈도수 계산\n",
    "keyword_counts = Counter(keyword_list)\n",
    "\n",
    "# 가장 많이 언급된 상위 10개 키워드\n",
    "top_keywords = keyword_counts.most_common(10)\n",
    "\n",
    "# 결과 출력\n",
    "top_keywords\n"
   ]
  },
  {
   "cell_type": "markdown",
   "id": "085265aa",
   "metadata": {},
   "source": [
    "### 알고리즘과 정형 데이터:\n",
    "\n",
    "'알고리즘'과 '정형'이 가장 많이 언급된 키워드로, 이는 대부분의 데이콘 경진대회가 알고리즘 개발과 정형 데이터 처리에 중점을 두고 있음을 나타낸다.\n",
    "\n",
    "회귀와 분류: \n",
    "\n",
    "'회귀'와 '분류'는 머신 러닝의 두 가지 주요 문제 유형으로, 데이콘 대회에서 자주 다뤄지는 주제임을 시사한다.\n",
    "\n",
    "특정 분야의 인기:\n",
    "\n",
    "'금융'과 같은 특정 분야가 상대적으로 더 많은 관심을 받고 있는 것으로 보인다.\n",
    "\n",
    "평가 방법론:\n",
    "\n",
    "'RMSE', '정성평가', 'CV' 등의 키워드는 대회의 평가 방법론에 대한 특징을 나타내며, 다양한 평가 기준이 사용되고 있음을 보여준다."
   ]
  },
  {
   "cell_type": "code",
   "execution_count": 6,
   "id": "73cb1385",
   "metadata": {},
   "outputs": [
    {
     "data": {
      "text/plain": [
       "[('알고리즘', 120),\n",
       " ('정형', 80),\n",
       " ('회귀', 50),\n",
       " ('분류', 49),\n",
       " ('금융', 18),\n",
       " ('정성평가', 17),\n",
       " ('RMSE', 16),\n",
       " ('분석시각화', 15),\n",
       " ('분석', 14),\n",
       " ('CV', 14)]"
      ]
     },
     "execution_count": 6,
     "metadata": {},
     "output_type": "execute_result"
    }
   ],
   "source": [
    "from collections import Counter\n",
    "import itertools\n",
    "\n",
    "# 대회 키워드 데이터 추출 및 분석\n",
    "keywords = trend_analysis_df['키워드'].dropna()\n",
    "\n",
    "# 모든 키워드를 분리하여 리스트로 변환\n",
    "keyword_list = list(itertools.chain(*[k.split(' | ') for k in keywords]))\n",
    "\n",
    "# 키워드 빈도수 계산\n",
    "keyword_counts = Counter(keyword_list)\n",
    "\n",
    "# 가장 많이 언급된 상위 10개 키워드\n",
    "top_keywords = keyword_counts.most_common(10)\n",
    "\n",
    "# 결과 출력\n",
    "top_keywords\n"
   ]
  },
  {
   "cell_type": "markdown",
   "id": "fc2532d0",
   "metadata": {},
   "source": [
    "알고리즘 중심:\n",
    "\n",
    "두 해 모두 '알고리즘'이 가장 많이 언급된 키워드로, 데이콘 대회가 알고리즘 기반의 해결 방법에 큰 중점을 두고 있음을 보여준다.\n",
    "\n",
    "\n",
    "회귀와 정형 데이터의 중요성: \n",
    "\n",
    "'회귀'와 '정형'은 두 해 모두 상위 키워드로 등장하여, 회귀 분석과 정형 데이터 처리가 데이콘 대회의 주요 주제임을 나타낸다.\n",
    "\n",
    "분야의 다양화:\n",
    "\n",
    "2020년에 '분류'와 '분석'이 더 높은 빈도로 언급되어, 대회 주제와 기술이 다양화되고 있음을 시사한다."
   ]
  },
  {
   "cell_type": "code",
   "execution_count": null,
   "id": "145ff7f7",
   "metadata": {},
   "outputs": [],
   "source": []
  }
 ],
 "metadata": {
  "kernelspec": {
   "display_name": "Python 3 (ipykernel)",
   "language": "python",
   "name": "python3"
  },
  "language_info": {
   "codemirror_mode": {
    "name": "ipython",
    "version": 3
   },
   "file_extension": ".py",
   "mimetype": "text/x-python",
   "name": "python",
   "nbconvert_exporter": "python",
   "pygments_lexer": "ipython3",
   "version": "3.9.12"
  }
 },
 "nbformat": 4,
 "nbformat_minor": 5
}
